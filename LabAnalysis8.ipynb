{
  "nbformat": 4,
  "nbformat_minor": 0,
  "metadata": {
    "colab": {
      "provenance": [],
      "authorship_tag": "ABX9TyPivJ7iv0MblRnm/BB0tr7R",
      "include_colab_link": true
    },
    "kernelspec": {
      "name": "python3",
      "display_name": "Python 3"
    },
    "language_info": {
      "name": "python"
    }
  },
  "cells": [
    {
      "cell_type": "markdown",
      "metadata": {
        "id": "view-in-github",
        "colab_type": "text"
      },
      "source": [
        "<a href=\"https://colab.research.google.com/github/NYU-IEP-2022-2023-Assignments/LabAnalysis8/blob/main/LabAnalysis8.ipynb\" target=\"_parent\"><img src=\"https://colab.research.google.com/assets/colab-badge.svg\" alt=\"Open In Colab\"/></a>"
      ]
    },
    {
      "cell_type": "code",
      "source": [
        "import numpy as np\n",
        "import matplotlib.pyplot as plt\n",
        "import os, glob\n",
        "import scipy.optimize\n",
        "import itertools,operator\n",
        "from scipy.integrate import solve_ivp\n"
      ],
      "metadata": {
        "id": "NiIVG0gISz9V"
      },
      "execution_count": 42,
      "outputs": []
    },
    {
      "cell_type": "code",
      "metadata": {
        "id": "rl2JqjsMqXUV"
      },
      "source": [
        "deghr = np.rad2deg(3600)\n",
        "\n",
        "def findOrbitFiles (startdir):\n",
        "  #orbitFiles = findOrbitFiles(startdir)\n",
        "  # input stardir: path to top level directory (e.g. data)\n",
        "  # output list of all files that end _orbit.txt\n",
        "\n",
        "  #https://stackoverflow.com/questions/3964681/find-all-files-in-a-directory-with-extension-txt-in-python\n",
        "  #https://www.kite.com/python/answers/how-to-search-for-specific-files-in-subdirectories-in-python\n",
        "\n",
        "  return sorted(glob.glob(startdir+'/**/*_orbit.txt') + glob.glob(startdir+'/*_orbit.txt') )\n",
        "\n",
        "\n",
        "# Checking data validity (no wild outliers)\n",
        "def sanityCheck(time, theta, amplitude, number, maxTime = np.inf):\n",
        "  dt = np.gradient(time)\n",
        "  #dtheta = np.gradient(np.unwrap(theta),time)\n",
        "  \n",
        "  #damplitude = np.diff(np.log(amplitude))\n",
        "  amprange = (30,75)\n",
        "  dn = np.gradient(number)\n",
        "  maxgap = 7200 \n",
        "  valid = ((dt > 0) & (dt < maxgap) & (dn > 0) & (amplitude > amprange[0]) & (amplitude < amprange[1])) #np.abs(damplitude) < np.log(2) \n",
        "  return valid\n",
        "  \n",
        "\n",
        "# load slope and get longest valid sequence\n",
        "# takes the absolute value of slope \n",
        "# inputs: filepath - path of the file\n",
        "#         maxTime - optional, longest duration to load\n",
        "# outputs: time - time of the crossing: (file contains every other crossing, e.g. 1 per period)\n",
        "#          slope - absolute value of slope at the crossing (V/s)\n",
        "#          majaxis - major axis (mm)\n",
        "#          minaxis - minor axis (mm)\n",
        "#          \n",
        "def loadOrbitFile(filepath, maxTime = 10000000):\n",
        "  #num crossings\ttime (s)\tmaj axis (mm)\tmin axis (mm)\ttheta (rad )\tslope (V/s)\n",
        "  num, time, majaxis, minaxis, theta, slope = np.loadtxt(filepath, skiprows = 1, unpack=True)\n",
        "  validInds = sanityCheck(time,theta,majaxis,num,maxTime)\n",
        "  num = num[validInds]\n",
        "  time = time[validInds]\n",
        "  theta = np.unwrap(theta[validInds])\n",
        "  time = time - time[0] #0 reference time\n",
        "  majaxis = majaxis[validInds]\n",
        "  minaxis = minaxis[validInds]\n",
        "  slope = np.abs(slope[validInds])\n",
        "\n",
        "  return (time,theta,majaxis,minaxis)\n",
        "\n",
        "def splineSmoothAndDerivative(t,y, s = 10, dt = 10):\n",
        "  tck = scipy.interpolate.splrep(t, scipy.ndimage.median_filter(y, size=(5,)), s=s)\n",
        "  xnew = np.arange(t[0],t[-1],dt)\n",
        "  return xnew, scipy.interpolate.splev(xnew, tck, der=0),  scipy.interpolate.splev(xnew, tck, der=1) \n"
      ],
      "execution_count": 65,
      "outputs": []
    },
    {
      "cell_type": "code",
      "source": [
        "# MODIFY THIS LINE SO THAT THE URL POINTS TO YOUR DATA REPOSITORY by replacing \"your_github_username\" with your github user name \n",
        "# DO NOT delete the \"data\" at the end of the line \n",
        "#!git clone https://github.com/NYU-IEP-2022-3-Classroom/LongFoucaultDataSets data\n",
        "# https://github.com/NYU-IEP-2022-3-Classroom/lab8-data-repository-your_github_username mydata \n",
        "\n",
        "\n"
      ],
      "metadata": {
        "colab": {
          "base_uri": "https://localhost:8080/"
        },
        "id": "D5xNaJa9RlmU",
        "outputId": "128fa956-a145-4c18-82d3-c8ea49c3595c"
      },
      "execution_count": 44,
      "outputs": [
        {
          "output_type": "stream",
          "name": "stdout",
          "text": [
            "Cloning into 'data'...\n",
            "remote: Enumerating objects: 21, done.\u001b[K\n",
            "remote: Counting objects: 100% (21/21), done.\u001b[K\n",
            "remote: Compressing objects: 100% (18/18), done.\u001b[K\n",
            "remote: Total 21 (delta 0), reused 19 (delta 0), pack-reused 0\u001b[K\n",
            "Unpacking objects: 100% (21/21), 2.72 MiB | 7.38 MiB/s, done.\n"
          ]
        }
      ]
    },
    {
      "cell_type": "markdown",
      "source": [
        "#This code loads and smooths your data\n",
        "\n",
        "`rawtime` and `rawtheta` contain the time and orbit angle as determined by the labview fitter\n",
        "\n",
        "`time`, `theta` give a smoothed version of the orbit angle in 10 second increments (the angle is first median filtered to eliminate large random jumps then a smoothing spline is used to further smooth the angle) and `dthetadt` contains the derivative of the smoothed angle (in radians/sec)"
      ],
      "metadata": {
        "id": "pVeMNFZpHLLY"
      }
    },
    {
      "cell_type": "code",
      "source": [
        "of = findOrbitFiles('mydata')\n",
        "(rawtime, rawtheta, rawma, rawb) = loadOrbitFile(of[0])\n",
        "\n",
        "time, theta, dthetadt = splineSmoothAndDerivative(rawtime,rawtheta)\n"
      ],
      "metadata": {
        "id": "T2ApWoyHuwm2",
        "colab": {
          "base_uri": "https://localhost:8080/"
        },
        "outputId": "fe9aaa64-4775-4ef4-e201-c4253db03c1e"
      },
      "execution_count": 52,
      "outputs": [
        {
          "output_type": "stream",
          "name": "stderr",
          "text": [
            "<ipython-input-51-a4aea668eeea>:25: RuntimeWarning: divide by zero encountered in log\n",
            "  damplitude = np.diff(np.log(amplitude))\n"
          ]
        }
      ]
    },
    {
      "cell_type": "markdown",
      "source": [
        "#Plot the angle of the orbit vs time\n",
        "\n",
        "`rawtime` and `rawtheta` contain the time and orbit angle as determined by the labview fitter\n",
        "\n",
        "`time`, `theta` give a smoothed version of the orbit angle in 10 second increments (the angle is first median filtered to eliminate large random jumps then a smoothing spline is used to further smooth the angle) and `dthetadt` contains the derivative of the smoothed angle (in radians/sec)\n",
        "\n",
        "1. Please plot the raw angle vs. (raw) time, and the smoothed angle vs. the smoothed time. **Make the time in hours and the angle in degrees** (1 second = 1/3600 hours, 1 radian is 180/$\\pi$ degrees (or use np.rad2deg)). Label the axes. \n",
        "\n",
        "1. Please fit the smoothed angle to a linear function of smoothed time (find the best fit line of the form $\\theta = m*t + b$). Plot this line fit on top of the other two curves (remember to convert time to hours and angle to degrees). \n",
        "\n",
        "1. Title the plot with the slope of the line, converted to degrees per hr. (Depending on whether you converted units before or after you did the fit, your result might already be in degrees per hour. Otherwise, 1 radian per second = `np.rad2deg(3600)` degrees per hr, or multiply by `deghr`, which I've defined for you)\n",
        "\n",
        "#Plot the rate of change of the angle vs time\n",
        "1. On a new set of axes, please plot the derivative of the smoothed angle vs time. Please convert time to hours and precession rate to degrees per hour. Plot a horizontal line across the data at the rate determined by your fit above. (i.e. if the fit slope was -8 degrees per hour, you would plot a horizontal line at -8 degrees per hour)\n",
        "\n"
      ],
      "metadata": {
        "id": "_OwcZngfocbO"
      }
    },
    {
      "cell_type": "code",
      "source": [
        "#your code here"
      ],
      "metadata": {
        "id": "wsFgsvXG0qDw"
      },
      "execution_count": null,
      "outputs": []
    },
    {
      "cell_type": "markdown",
      "source": [
        "#If your data looks OK, please add it to the shared repository\n",
        "\n",
        "By OK, I mean that you have at least an hour of measurements, your angle vs. time doesn't look like it was collected on the deck of a battleship conducting evasive maneuvers in the middle of a hurricane, and you are able to complete the first part of the lab analysis without errors that need to be corrected by hand. \n",
        "\n",
        "Please use the link below to accept the shared repository, then copy **your _orbit.txt file(s)** only to the shared repository. \n",
        "\n",
        "[Assignment link](https://classroom.github.com/a/0Hajlpy_)"
      ],
      "metadata": {
        "id": "CJk0gqzZxxLm"
      }
    },
    {
      "cell_type": "markdown",
      "source": [
        "#Write a function that loads an orbit file from disk, fits the angle vs time to a line, then returns the slope of that line\n",
        "\n",
        "Encapsulate your previous work (without the plotting) to find the mean precession rate in degrees per hour for a single file. Check to make sure you get the correct result for your file"
      ],
      "metadata": {
        "id": "FfDlE_8Zysiz"
      }
    },
    {
      "cell_type": "code",
      "source": [
        "def precessionRate(filename):\n",
        "  (rawtime, rawtheta, rawma, rawb) = loadOrbitFile(filename)\n",
        "  time, theta, dthetadt = splineSmoothAndDerivative(rawtime,rawtheta)\n",
        "  #your code here\n",
        "  return #the slope of the fit line in degrees/hr\n",
        "\n",
        "print ('As a check, here is the precession rate of the data you previously analyzed {:.2f} deg/hr'.format(precessionRate(of[0])))"
      ],
      "metadata": {
        "id": "_wEtatjCysQM"
      },
      "execution_count": null,
      "outputs": []
    },
    {
      "cell_type": "markdown",
      "source": [
        "This code will fetch the class repository, run your function on every data set in it, and store the resulting fit precession rates in a numpy array `precession_rates`"
      ],
      "metadata": {
        "id": "Q55w69Wh7d_e"
      }
    },
    {
      "cell_type": "code",
      "source": [
        "!git clone https://github.com/NYU-IEP-2022-3-Classroom/lab8-shared-data-everyone alldata\n",
        "allOrbits = findOrbitFiles('alldata')\n",
        "precession_rates = np.array([precessionRate(f) for f in allOrbits])"
      ],
      "metadata": {
        "id": "6UmPUpRz7btd"
      },
      "execution_count": null,
      "outputs": []
    },
    {
      "cell_type": "markdown",
      "source": [
        "#Make a histogram of the measured rates\n",
        "\n",
        "Title the histogram with the mean and standard error of the mean of the precession rates. \n",
        "\n",
        "This will change as more people add data to the repository, so be sure to check back and rerun your notebook later to see what the final outcome is"
      ],
      "metadata": {
        "id": "uwJeZa-gCoqi"
      }
    },
    {
      "cell_type": "code",
      "source": [
        "#your code here"
      ],
      "metadata": {
        "id": "OjFYKa7d_DZK"
      },
      "execution_count": null,
      "outputs": []
    },
    {
      "cell_type": "markdown",
      "source": [
        "#Look at a longer recording\n",
        "\n",
        "Here are some longer recordings to play with"
      ],
      "metadata": {
        "id": "6dNaTIz7C_eY"
      }
    },
    {
      "cell_type": "code",
      "source": [
        "!rm -rf longdata\n",
        "!git clone https://github.com/NYU-IEP-2022-3-Classroom/LongFoucaultDataSets longdata\n",
        "longFiles = findOrbitFiles('longdata')\n",
        "print(longFiles)"
      ],
      "metadata": {
        "colab": {
          "base_uri": "https://localhost:8080/"
        },
        "id": "HT5iTNvpDYPR",
        "outputId": "1a7e4f2d-35af-4d98-f7c9-25feae66d53b"
      },
      "execution_count": 58,
      "outputs": [
        {
          "output_type": "stream",
          "name": "stdout",
          "text": [
            "Cloning into 'longdata'...\n",
            "remote: Enumerating objects: 14, done.\u001b[K\n",
            "remote: Counting objects: 100% (14/14), done.\u001b[K\n",
            "remote: Compressing objects: 100% (12/12), done.\u001b[K\n",
            "remote: Total 14 (delta 1), reused 6 (delta 1), pack-reused 0\u001b[K\n",
            "Unpacking objects: 100% (14/14), 8.29 MiB | 7.87 MiB/s, done.\n",
            "['longdata/labannex_weekend_orbit.txt', 'longdata/marc_desk_week_orbit.txt', 'longdata/station4_weekend_orbit.txt']\n"
          ]
        }
      ]
    },
    {
      "cell_type": "markdown",
      "source": [
        "#Analyze a long data file of your choice \n",
        "\n",
        "e.g. look at `longFiles[0]` (or `[1]` or...)\n",
        "\n",
        "1. Load and smooth the data (`loadOrbitFile` and `splineSmoothAndDerivative`)\n",
        "1. Plot the smoothed angle (in deg) vs time (in hrs), and plot a fit line to that data. Title the plot with the slope in deg/hr \n",
        "1. On a new set of axes, plot the smoothed derivative of angle (in deg/hr) vs. time in hours\n",
        "\n",
        "(hint: for these steps, you can cut and paste a lot of code from above)\n",
        "\n",
        "Now look for a pattern in the data\n",
        "\n",
        "1. Plot the derivative of the angle vs. time mod 24hrs (`np.mod(..)`), which means that the same time of day will show up at the same position on the x axis\n",
        "\n",
        "1. On a new set of axes, plot the derivative of the anlge vs. the angle (in degrees) mod 180 - this means the same orbital direction will show up at the same position on the x axis (why 180 and not 360?)\n",
        "\n",
        "Once you've written  this code, it's pretty easy to wrap it in a for loop or change which file you're looking at by hand, and have a look at all the sets. But I won't make you."
      ],
      "metadata": {
        "id": "O_JrmYrzDjiH"
      }
    },
    {
      "cell_type": "code",
      "source": [
        "#your code here"
      ],
      "metadata": {
        "id": "4zVdfawdFfbT"
      },
      "execution_count": null,
      "outputs": []
    },
    {
      "cell_type": "markdown",
      "source": [
        "#Questions\n",
        "\n",
        "1. Does the data support the proposition that the earth is rotating? If so, in which direction?\n",
        "1. Does the data support the proposition that the earth rotates 15 degrees per hour (or that the rate in NYC is -9.8 deg/hr)? What range of rotation rates would be consistent with the measurements?\n",
        "1. Do fluctuations in the rate of precession appear to be determined more by the time of day or by the geometry of the setup?"
      ],
      "metadata": {
        "id": "96AeFzzUFg-r"
      }
    }
  ]
}